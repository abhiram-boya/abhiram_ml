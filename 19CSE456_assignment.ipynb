{
 "cells": [
  {
   "cell_type": "markdown",
   "id": "5a4cf6f0",
   "metadata": {},
   "source": [
    "# 01-NumPy program to compute the addition of two matrices"
   ]
  },
  {
   "cell_type": "code",
   "execution_count": 26,
   "id": "268fb5ba",
   "metadata": {},
   "outputs": [
    {
     "name": "stdout",
     "output_type": "stream",
     "text": [
      "Enter the number of rows for the matrice 1: 1\n",
      "Enter the number of columns for the matrice 1: 2\n",
      "Enter the number of rows for the matrice 2: 1\n",
      "Enter the number of columns for the matrice 2: 2\n",
      "(1, 2)\n",
      "(1, 2)\n",
      "Enter elements for Matrix 1 (1x2):\n",
      "Enter element at position (1, 1): 1\n",
      "Enter element at position (1, 2): 2\n",
      "Enter elements for Matrix 2 (1x2):\n",
      "Enter element at position (1, 1): 1\n",
      "Enter element at position (1, 2): 2\n",
      "Addition of Matrices results to:\n",
      "[[2. 4.]]\n"
     ]
    }
   ],
   "source": [
    "#addition\n",
    "def get_matrix(rows, cols, matrix_name):\n",
    "    matrix = np.zeros((rows, cols)) \n",
    "    print(f\"Enter elements for {matrix_name} ({rows}x{cols}):\")\n",
    "    for i in range(rows):\n",
    "        for j in range(cols):\n",
    "            element = float(input(f\"Enter element at position ({i+1}, {j+1}): \"))\n",
    "            matrix[i, j] = element\n",
    "    return matrix\n",
    "\n",
    "#main function\n",
    "rows1 = int(input(\"Enter the number of rows for the matrice 1: \"))\n",
    "cols1 = int(input(\"Enter the number of columns for the matrice 1: \"))\n",
    "rows2 = int(input(\"Enter the number of rows for the matrice 2: \"))\n",
    "cols2 = int(input(\"Enter the number of columns for the matrice 2: \"))\n",
    "matrix1 = np.zeros((rows1, cols1))\n",
    "matrix2 = np.zeros((rows2, cols2))\n",
    "print(matrix1.shape)\n",
    "print(matrix2.shape)\n",
    "if matrix1.shape != matrix2.shape:\n",
    "    print(\"Error: Matrices must have the same dimensions for addition.\")\n",
    "else:\n",
    "    matrix1=get_matrix(rows1,cols1,\"Matrix 1\")\n",
    "    matrix2=get_matrix(rows2,cols2,\"Matrix 2\")\n",
    "    print(f'Addition of Matrices results to:\\n{np.add(matrix1,matrix2)}')\n",
    "\n"
   ]
  },
  {
   "cell_type": "markdown",
   "id": "6c5e37fa",
   "metadata": {},
   "source": [
    "# 02-NumPy program to compute the multiplication of two matrices."
   ]
  },
  {
   "cell_type": "code",
   "execution_count": 30,
   "id": "712ea0bf",
   "metadata": {},
   "outputs": [
    {
     "name": "stdout",
     "output_type": "stream",
     "text": [
      "Enter the number of rows for the matrice 1: 3\n",
      "Enter the number of columns for the matrice 1: 2\n",
      "Enter the number of rows for the matrice 2: 2\n",
      "Enter the number of columns for the matrice 2: 2\n",
      "(3, 2)\n",
      "(2, 2)\n",
      "Enter elements for matrix1 (3x2):\n",
      "Enter element at position (1, 1): 4\n",
      "Enter element at position (1, 2): 3\n",
      "Enter element at position (2, 1): 7\n",
      "Enter element at position (2, 2): 2\n",
      "Enter element at position (3, 1): 9\n",
      "Enter element at position (3, 2): 0\n",
      "Enter elements for matrix2 (2x2):\n",
      "Enter element at position (1, 1): 2\n",
      "Enter element at position (1, 2): 5\n",
      "Enter element at position (2, 1): 1\n",
      "Enter element at position (2, 2): 6\n",
      "Multiplication of Matrices results to:\n",
      "[[11. 38.]\n",
      " [16. 47.]\n",
      " [18. 45.]]\n"
     ]
    }
   ],
   "source": [
    "#matrix multiplication\n",
    "def get_matrix(rows, cols, matrix_name):\n",
    "    matrix = np.zeros((rows, cols)) \n",
    "    print(f\"Enter elements for {matrix_name} ({rows}x{cols}):\")\n",
    "    for i in range(rows):\n",
    "        for j in range(cols):\n",
    "            element = float(input(f\"Enter element at position ({i+1}, {j+1}): \"))\n",
    "            matrix[i, j] = element\n",
    "    return matrix\n",
    "\n",
    "#main function\n",
    "rows1 = int(input(\"Enter the number of rows for the matrice 1: \"))\n",
    "cols1 = int(input(\"Enter the number of columns for the matrice 1: \"))\n",
    "rows2 = int(input(\"Enter the number of rows for the matrice 2: \"))\n",
    "cols2 = int(input(\"Enter the number of columns for the matrice 2: \"))\n",
    "matrix1 = np.zeros((rows1, cols1))\n",
    "matrix2 = np.zeros((rows2, cols2))\n",
    "print(matrix1.shape)\n",
    "print(matrix2.shape)\n",
    "if cols1 != rows2:\n",
    "    print(\"Error: Matrices must have the same dimensions for addition.\")\n",
    "else:\n",
    "    matrix1=get_matrix(rows1,cols1,\"matrix1\")\n",
    "    matrix2=get_matrix(rows2,cols2,\"matrix2\")\n",
    "    print(f'Multiplication of Matrices results to:\\n{np.matmul(matrix1,matrix2)}')\n",
    "\n"
   ]
  },
  {
   "cell_type": "markdown",
   "id": "d83067bf",
   "metadata": {},
   "source": [
    "# 03- NumPy program to compute the Transpose of a matrix."
   ]
  },
  {
   "cell_type": "code",
   "execution_count": 37,
   "id": "2c761a02",
   "metadata": {},
   "outputs": [
    {
     "name": "stdout",
     "output_type": "stream",
     "text": [
      "Enter the number of rows for the matrice 1: 2\n",
      "Enter the number of columns for the matrice 1: 3\n",
      "Enter elements for Matrix 1 (2x3):\n",
      "Enter element at position (1, 1): 1\n",
      "Enter element at position (1, 2): 2\n",
      "Enter element at position (1, 3): 3\n",
      "Enter element at position (2, 1): 4\n",
      "Enter element at position (2, 2): 5\n",
      "Enter element at position (2, 3): 6\n",
      "(2, 3)\n",
      "matrix before transpose is \n",
      "[[1. 2. 3.]\n",
      " [4. 5. 6.]]\n",
      "\n",
      "Transpose Matrix is :\n",
      "[[1. 4.]\n",
      " [2. 5.]\n",
      " [3. 6.]]\n"
     ]
    }
   ],
   "source": [
    "#Transpose of a matrix\n",
    "def get_matrix(rows, cols, matrix_name):\n",
    "    matrix = np.zeros((rows, cols)) \n",
    "    print(f\"Enter elements for {matrix_name} ({rows}x{cols}):\")\n",
    "    for i in range(rows):\n",
    "        for j in range(cols):\n",
    "            element = float(input(f\"Enter element at position ({i+1}, {j+1}): \"))\n",
    "            matrix[i, j] = element\n",
    "    return matrix\n",
    "\n",
    "#main function\n",
    "rows1 = int(input(\"Enter the number of rows for the matrice 1: \"))\n",
    "cols1 = int(input(\"Enter the number of columns for the matrice 1: \"))\n",
    "\n",
    "matrix1=get_matrix(rows1,cols1,\"Matrix 1\")\n",
    "print(matrix1.shape)\n",
    "print(f'matrix before transpose is \\n{matrix1}')\n",
    "print(f'\\nTranspose Matrix is :\\n{np.transpose(matrix1)}') #or matrix.T\n",
    "\n"
   ]
  },
  {
   "cell_type": "markdown",
   "id": "e7a84cbb",
   "metadata": {},
   "source": [
    "# 04-NumPy program to compute the determinant of a matrix"
   ]
  },
  {
   "cell_type": "code",
   "execution_count": 38,
   "id": "c5c33f0c",
   "metadata": {},
   "outputs": [
    {
     "name": "stdout",
     "output_type": "stream",
     "text": [
      "Enter the number of rows for the matrice 1: 3\n",
      "Enter the number of columns for the matrice 1: 3\n",
      "Enter elements for Matrix 1 (3x3):\n",
      "Enter element at position (1, 1): 1\n",
      "Enter element at position (1, 2): 5\n",
      "Enter element at position (1, 3): 3\n",
      "Enter element at position (2, 1): 2\n",
      "Enter element at position (2, 2): 4\n",
      "Enter element at position (2, 3): 7\n",
      "Enter element at position (3, 1): 4\n",
      "Enter element at position (3, 2): 6\n",
      "Enter element at position (3, 3): 2\n",
      "(3, 3)\n",
      "Determinant  Matrix is :\n",
      "74.00000000000003\n"
     ]
    }
   ],
   "source": [
    "#Det of a matrix\n",
    "def get_matrix(rows, cols, matrix_name):\n",
    "    matrix = np.zeros((rows, cols)) \n",
    "    print(f\"Enter elements for {matrix_name} ({rows}x{cols}):\")\n",
    "    for i in range(rows):\n",
    "        for j in range(cols):\n",
    "            element = float(input(f\"Enter element at position ({i+1}, {j+1}): \"))\n",
    "            matrix[i, j] = element\n",
    "    return matrix\n",
    "\n",
    "#main function\n",
    "rows1 = int(input(\"Enter the number of rows for the matrice 1: \"))\n",
    "cols1 = int(input(\"Enter the number of columns for the matrice 1: \"))\n",
    "\n",
    "matrix1=get_matrix(rows1,cols1,\"Matrix 1\")\n",
    "print(matrix1.shape)\n",
    "print(f'Determinant  Matrix is :\\n{np.linalg.det(matrix1)}') #or matrix.T\n",
    "\n"
   ]
  },
  {
   "cell_type": "markdown",
   "id": "2cd5e955",
   "metadata": {},
   "source": [
    "# 05-NumPy program to compute the inverse of a square matrix."
   ]
  },
  {
   "cell_type": "code",
   "execution_count": 39,
   "id": "47e0079f",
   "metadata": {},
   "outputs": [
    {
     "name": "stdout",
     "output_type": "stream",
     "text": [
      "Enter the number of rows for the matrice 1: 2\n",
      "Enter the number of columns for the matrice 1: 2\n",
      "Enter elements for Matrix 1 (2x2):\n",
      "Enter element at position (1, 1): 4\n",
      "Enter element at position (1, 2): 7\n",
      "Enter element at position (2, 1): 2\n",
      "Enter element at position (2, 2): 6\n",
      "(2, 2)\n",
      "INVERSE  Matrix is :\n",
      "[[ 0.6 -0.7]\n",
      " [-0.2  0.4]]\n"
     ]
    }
   ],
   "source": [
    "#INVERSE of a matrix\n",
    "def get_matrix(rows, cols, matrix_name):\n",
    "    matrix = np.zeros((rows, cols)) \n",
    "    print(f\"Enter elements for {matrix_name} ({rows}x{cols}):\")\n",
    "    for i in range(rows):\n",
    "        for j in range(cols):\n",
    "            element = float(input(f\"Enter element at position ({i+1}, {j+1}): \"))\n",
    "            matrix[i, j] = element\n",
    "    return matrix\n",
    "\n",
    "#main function\n",
    "rows1 = int(input(\"Enter the number of rows for the matrice 1: \"))\n",
    "cols1 = int(input(\"Enter the number of columns for the matrice 1: \"))\n",
    "\n",
    "matrix1=get_matrix(rows1,cols1,\"Matrix 1\")\n",
    "print(matrix1.shape)\n",
    "print(f'INVERSE  Matrix is :\\n{np.linalg.inv(matrix1)}') #or matrix.T\n",
    "\n"
   ]
  },
  {
   "cell_type": "markdown",
   "id": "e267c160",
   "metadata": {},
   "source": [
    "# 06- NumPy program to compute the dot product of two vectors."
   ]
  },
  {
   "cell_type": "code",
   "execution_count": 46,
   "id": "5a49b186",
   "metadata": {},
   "outputs": [
    {
     "name": "stdout",
     "output_type": "stream",
     "text": [
      "Enter the size of the Vector1:2\n",
      "Enter the size of the Vector2:2\n",
      "Enter the element 1 for v1:1\n",
      "Enter the element 2 for v1:2\n",
      "Enter the element 1 for v2:3\n",
      "Enter the element 2 for v2:1\n",
      "\n",
      "Vector Dot product is :5.0\n"
     ]
    }
   ],
   "source": [
    "vector_size1=int(input(\"Enter the size of the Vector1:\"))\n",
    "vector_size2=int(input(\"Enter the size of the Vector2:\"))\n",
    "v1=[]\n",
    "v2=[]\n",
    "if vector_size1==vector_size2:\n",
    "    for i in range(vector_size1):\n",
    "        l=float(input(f'Enter the element {i+1} for v1:'))\n",
    "        v1.append(l)\n",
    "    for i in range(vector_size2):\n",
    "        l=float(input(f'Enter the element {i+1} for v2:'))\n",
    "        v2.append(l)\n",
    "    v1=np.array(v1)\n",
    "    v2=np.array(v2)\n",
    "    print(f'\\nVector Dot product is :{np.dot(v1,v2)}')\n",
    "else:\n",
    "    print('not compatable dimension')\n",
    "    "
   ]
  },
  {
   "cell_type": "markdown",
   "id": "a733ed12",
   "metadata": {},
   "source": [
    "# Thank You"
   ]
  }
 ],
 "metadata": {
  "kernelspec": {
   "display_name": "Python 3 (ipykernel)",
   "language": "python",
   "name": "python3"
  },
  "language_info": {
   "codemirror_mode": {
    "name": "ipython",
    "version": 3
   },
   "file_extension": ".py",
   "mimetype": "text/x-python",
   "name": "python",
   "nbconvert_exporter": "python",
   "pygments_lexer": "ipython3",
   "version": "3.11.3"
  }
 },
 "nbformat": 4,
 "nbformat_minor": 5
}
